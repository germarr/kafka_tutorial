{
 "cells": [
  {
   "cell_type": "code",
   "execution_count": 1,
   "metadata": {},
   "outputs": [],
   "source": [
    "import logging\n",
    "from requests_sse import EventSource\n",
    "import requests\n",
    "from dotenv import load_dotenv\n",
    "import os\n",
    "\n",
    "load_dotenv()\n",
    "alpaca_key = os.getenv('alpaca_key')\n",
    "alpaca_secret = os.getenv('alpaca_secret')"
   ]
  },
  {
   "cell_type": "code",
   "execution_count": 42,
   "metadata": {},
   "outputs": [],
   "source": [
    "def main():\n",
    "    logging.info(\"START\")\n",
    "\n",
    "def call_article(next_page:str=None, first_call=True):\n",
    "    if first_call:\n",
    "        url = f\"https://data.alpaca.markets/v1beta1/news?start=2025-01-01T00%3A00%3A00Z&end=2025-02-01T00%3A00%3A00Z&sort=desc&symbols=BTCUSD&limit=50\"\n",
    "    else:\n",
    "        url = f\"https://data.alpaca.markets/v1beta1/news?start=2025-01-01T00%3A00%3A00Z&end=2025-02-01T00%3A00%3A00Z&sort=desc&symbols=BTCUSD&limit=50&page_token={next_page}\"\n",
    "\n",
    "    headers = {\n",
    "        \"accept\": \"application/json\",\n",
    "        \"APCA-API-KEY-ID\": alpaca_key,\n",
    "        \"APCA-API-SECRET-KEY\": alpaca_secret\n",
    "    }\n",
    "\n",
    "    response = requests.get(url, headers=headers).json()\n",
    "    return response\n",
    "\n",
    "articles = []\n",
    "next_page = ''\n",
    "start = 0\n",
    "\n",
    "while True:\n",
    "    if start == 0:\n",
    "        response = call_article()\n",
    "    else:\n",
    "        response = call_article(next_page=next_page, first_call=False)\n",
    "    \n",
    "    next_page_token = response['next_page_token']\n",
    "    \n",
    "    for article in response['news']:\n",
    "        news_Data = {\n",
    "            \"created_at\":article['created_at'],\n",
    "            \n",
    "            \"headline\":article['headline'],\n",
    "            \"summary\":article['summary'],\n",
    "            \"symbols\":article['symbols'],\n",
    "            \"url\":article['url']\n",
    "        }\n",
    "    \n",
    "    articles.append(news_Data)\n",
    "    \n",
    "    next_page = next_page_token\n",
    "    \n",
    "    start += 1\n",
    "\n",
    "    if next_page_token == None:\n",
    "        break\n"
   ]
  },
  {
   "cell_type": "code",
   "execution_count": 43,
   "metadata": {},
   "outputs": [
    {
     "data": {
      "text/plain": [
       "[{'created_at': '2025-01-17T02:52:41Z',\n",
       "  'headline': \"Bitcoin, Ethereum, Dogecoin Steady As Market Expects Trump's Pro-Crypto Bonanza: Analyst Says BTC Could Hit All-Time High If It Breaks This Resistance\",\n",
       "  'summary': 'Leading coins remained steady on Thursday amid reports that President-elect Donald Trump may announce several pro-cryptocurrency measures after being sworn in.',\n",
       "  'symbols': ['BTC', 'BTCUSD', 'DOGEUSD', 'ETHUSD', 'NVDA', 'TSLA'],\n",
       "  'url': 'https://www.benzinga.com/trading-ideas/movers/25/01/43047598/bitcoin-ethereum-dogecoin-steady-as-market-expects-trumps-pro-crypto-bonanza-analyst-says-btc-could-hit-all-time-high-if-it-breaks-this-resistance'},\n",
       " {'created_at': '2025-01-13T18:27:30Z',\n",
       "  'headline': 'Tether To Relocate Headquarters To El Salvador',\n",
       "  'summary': 'Tether (CRYPTO: USDT) on Monday announced it has acquired a Digital Asset Service Provider (DASP) license by El Salvador, allowing it to subsequently relocate its operations to ',\n",
       "  'symbols': ['BTCUSD', 'ETHUSD', 'USDTUSD'],\n",
       "  'url': 'https://www.benzinga.com/markets/cryptocurrency/25/01/42956569/tether-to-relocate-headquarters-to-el-salvador'},\n",
       " {'created_at': '2025-01-09T03:56:00Z',\n",
       "  'headline': 'Bitcoin, Ethereum, Dogecoin Drop After Fed Minutes Casts Shadow Over Interest Rate Cuts: Top Analyst Says BTC Must Claim $100K To Overcome Bearish Outlook',\n",
       "  'summary': 'Leading cryptocurrencies dropped further on Wednesday as Federal Reserve minutes painted a bearish outlook for risk-on assets.',\n",
       "  'symbols': ['BTC', 'BTCUSD', 'DOGEUSD', 'ETHUSD'],\n",
       "  'url': 'https://www.benzinga.com/25/01/42890642/bitcoin-ethereum-dogecoin-drop-after-fed-minutes-cast-uncertainty-top-analyst-says-btc-must-claim-100k-to-invalidate-bearish-outlook'},\n",
       " {'created_at': '2025-01-06T01:52:12Z',\n",
       "  'headline': \"Bitcoin, Ethereum, Dogecoin Remain Muffled As Investors Await Jobs Data: Top Analyst Says ETH 'Holding Strong' In Pattern Pointing Toward $6K\",\n",
       "  'summary': 'Leading cryptocurrencies were rangebound Sunday as investors awaited fresh macroeconomic data to assess investments in riskier markets.',\n",
       "  'symbols': ['BTC', 'BTCUSD', 'DOGEUSD', 'ETHUSD'],\n",
       "  'url': 'https://www.benzinga.com/25/01/42806441/bitcoin-ethereum-dogecoin-remain-muffled-as-investors-await-jobs-data-top-analyst-spots-bullish-pattern-for-eth-that-pointed-toward-a-move-to-6k'},\n",
       " {'created_at': '2025-01-01T14:15:41Z',\n",
       "  'headline': 'EXCLUSIVE: Top 20 Most-Searched Tickers On Benzinga Pro In December 2024 — Where Do Tesla, Nvidia, Quantum Computing Stock Rank?',\n",
       "  'summary': 'Each trading day features hundreds of headlines and press releases on Benzinga Pro, a source for traders to see the latest news on the overall market\\xa0and individual tickers.',\n",
       "  'symbols': ['AAPL',\n",
       "   'AMD',\n",
       "   'AVGO',\n",
       "   'BTCUSD',\n",
       "   'CLSK',\n",
       "   'DELL',\n",
       "   'DJT',\n",
       "   'LAES',\n",
       "   'LLY',\n",
       "   'MSTR',\n",
       "   'MU',\n",
       "   'NUKK',\n",
       "   'NVDA',\n",
       "   'PLTR',\n",
       "   'QBTS',\n",
       "   'QQQ',\n",
       "   'QUBT',\n",
       "   'RGTI',\n",
       "   'SMCI',\n",
       "   'SOUN',\n",
       "   'SPY',\n",
       "   'TSLA',\n",
       "   'WMT'],\n",
       "  'url': 'https://www.benzinga.com/trading-ideas/25/01/42755273/exclusive-top-20-most-searched-tickers-on-benzinga-pro-in-december-2024-where-do-tesla-nvidia-quantum-computing-stock-rank'}]"
      ]
     },
     "execution_count": 43,
     "metadata": {},
     "output_type": "execute_result"
    }
   ],
   "source": []
  },
  {
   "cell_type": "code",
   "execution_count": 39,
   "metadata": {},
   "outputs": [
    {
     "ename": "SyntaxError",
     "evalue": "invalid syntax (67514571.py, line 9)",
     "output_type": "error",
     "traceback": [
      "\u001b[0;36m  Cell \u001b[0;32mIn[39], line 9\u001b[0;36m\u001b[0m\n\u001b[0;31m    news_Data.\u001b[0m\n\u001b[0m              ^\u001b[0m\n\u001b[0;31mSyntaxError\u001b[0m\u001b[0;31m:\u001b[0m invalid syntax\n"
     ]
    }
   ],
   "source": [
    "for article in articles[0]['news']:\n",
    "    news_Data = {\n",
    "        \"created_at\":article['created_at'],\n",
    "        \"headline\":article['headline'],\n",
    "        \"summary\":article['summary'],\n",
    "        \"symbols\":article['symbols'],\n",
    "        \"url\":article['url']\n",
    "    }\n",
    "\n"
   ]
  },
  {
   "cell_type": "code",
   "execution_count": null,
   "metadata": {},
   "outputs": [],
   "source": []
  }
 ],
 "metadata": {
  "kernelspec": {
   "display_name": ".venv",
   "language": "python",
   "name": "python3"
  },
  "language_info": {
   "codemirror_mode": {
    "name": "ipython",
    "version": 3
   },
   "file_extension": ".py",
   "mimetype": "text/x-python",
   "name": "python",
   "nbconvert_exporter": "python",
   "pygments_lexer": "ipython3",
   "version": "3.10.4"
  }
 },
 "nbformat": 4,
 "nbformat_minor": 2
}
